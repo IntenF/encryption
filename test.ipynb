{
 "cells": [
  {
   "cell_type": "code",
   "execution_count": 1,
   "metadata": {
    "collapsed": true
   },
   "outputs": [],
   "source": [
    "import pandas as pd"
   ]
  },
  {
   "cell_type": "code",
   "execution_count": 25,
   "metadata": {
    "collapsed": true
   },
   "outputs": [],
   "source": [
    "data = pd.read_csv('test.csv', index_col=0)"
   ]
  },
  {
   "cell_type": "code",
   "execution_count": 36,
   "metadata": {
    "collapsed": false
   },
   "outputs": [
    {
     "data": {
      "text/html": [
       "<div>\n",
       "<table border=\"1\" class=\"dataframe\">\n",
       "  <thead>\n",
       "    <tr style=\"text-align: right;\">\n",
       "      <th></th>\n",
       "      <th>password</th>\n",
       "      <th>solt</th>\n",
       "      <th>iv</th>\n",
       "    </tr>\n",
       "  </thead>\n",
       "  <tbody>\n",
       "    <tr>\n",
       "      <th>amazon.com</th>\n",
       "      <td>b'ab232bb2'</td>\n",
       "      <td>b'1234a'</td>\n",
       "      <td>b'iva'</td>\n",
       "    </tr>\n",
       "    <tr>\n",
       "      <th>github</th>\n",
       "      <td>b'12345'</td>\n",
       "      <td>b'abcd'</td>\n",
       "      <td>b'ivg'</td>\n",
       "    </tr>\n",
       "  </tbody>\n",
       "</table>\n",
       "</div>"
      ],
      "text/plain": [
       "               password      solt      iv\n",
       "amazon.com  b'ab232bb2'  b'1234a'  b'iva'\n",
       "github         b'12345'   b'abcd'  b'ivg'"
      ]
     },
     "execution_count": 36,
     "metadata": {},
     "output_type": "execute_result"
    }
   ],
   "source": [
    "data"
   ]
  },
  {
   "cell_type": "code",
   "execution_count": 35,
   "metadata": {
    "collapsed": false
   },
   "outputs": [
    {
     "data": {
      "text/plain": [
       "amazon.com    b\"b'ab232bb2'\"\n",
       "github           b\"b'12345'\"\n",
       "Name: password, dtype: bytes88"
      ]
     },
     "execution_count": 35,
     "metadata": {},
     "output_type": "execute_result"
    }
   ],
   "source": [
    "data.ix[:,'password'].astype('bytes')"
   ]
  },
  {
   "cell_type": "code",
   "execution_count": 34,
   "metadata": {
    "collapsed": false
   },
   "outputs": [
    {
     "ename": "TypeError",
     "evalue": "string argument without an encoding",
     "output_type": "error",
     "traceback": [
      "\u001b[0;31m---------------------------------------------------------------------------\u001b[0m",
      "\u001b[0;31mTypeError\u001b[0m                                 Traceback (most recent call last)",
      "\u001b[0;32m<ipython-input-34-1b722d091a6f>\u001b[0m in \u001b[0;36m<module>\u001b[0;34m()\u001b[0m\n\u001b[0;32m----> 1\u001b[0;31m \u001b[1;33m[\u001b[0m\u001b[0mbytes\u001b[0m\u001b[1;33m(\u001b[0m\u001b[0mx\u001b[0m\u001b[1;33m)\u001b[0m\u001b[1;33m.\u001b[0m\u001b[0mdecode\u001b[0m\u001b[1;33m(\u001b[0m\u001b[1;34m'utf-8'\u001b[0m\u001b[1;33m)\u001b[0m \u001b[1;32mfor\u001b[0m \u001b[0mx\u001b[0m \u001b[1;32min\u001b[0m \u001b[0mdata\u001b[0m\u001b[1;33m.\u001b[0m\u001b[0mix\u001b[0m\u001b[1;33m[\u001b[0m\u001b[1;33m:\u001b[0m\u001b[1;33m,\u001b[0m\u001b[1;34m'password'\u001b[0m\u001b[1;33m]\u001b[0m\u001b[1;33m]\u001b[0m\u001b[1;33m\u001b[0m\u001b[0m\n\u001b[0m",
      "\u001b[0;32m<ipython-input-34-1b722d091a6f>\u001b[0m in \u001b[0;36m<listcomp>\u001b[0;34m(.0)\u001b[0m\n\u001b[0;32m----> 1\u001b[0;31m \u001b[1;33m[\u001b[0m\u001b[0mbytes\u001b[0m\u001b[1;33m(\u001b[0m\u001b[0mx\u001b[0m\u001b[1;33m)\u001b[0m\u001b[1;33m.\u001b[0m\u001b[0mdecode\u001b[0m\u001b[1;33m(\u001b[0m\u001b[1;34m'utf-8'\u001b[0m\u001b[1;33m)\u001b[0m \u001b[1;32mfor\u001b[0m \u001b[0mx\u001b[0m \u001b[1;32min\u001b[0m \u001b[0mdata\u001b[0m\u001b[1;33m.\u001b[0m\u001b[0mix\u001b[0m\u001b[1;33m[\u001b[0m\u001b[1;33m:\u001b[0m\u001b[1;33m,\u001b[0m\u001b[1;34m'password'\u001b[0m\u001b[1;33m]\u001b[0m\u001b[1;33m]\u001b[0m\u001b[1;33m\u001b[0m\u001b[0m\n\u001b[0m",
      "\u001b[0;31mTypeError\u001b[0m: string argument without an encoding"
     ]
    }
   ],
   "source": [
    "[bytes(x).decode('utf-8') for x in data.ix[:,'password']]"
   ]
  },
  {
   "cell_type": "code",
   "execution_count": 21,
   "metadata": {
    "collapsed": false
   },
   "outputs": [
    {
     "data": {
      "text/plain": [
       "b'testcode'"
      ]
     },
     "execution_count": 21,
     "metadata": {},
     "output_type": "execute_result"
    }
   ],
   "source": [
    "b'testcode'"
   ]
  },
  {
   "cell_type": "code",
   "execution_count": 26,
   "metadata": {
    "collapsed": false
   },
   "outputs": [],
   "source": [
    "data.ix[:,'iv'] = [b'iva',b'ivg']"
   ]
  },
  {
   "cell_type": "code",
   "execution_count": 27,
   "metadata": {
    "collapsed": false
   },
   "outputs": [
    {
     "data": {
      "text/html": [
       "<div>\n",
       "<table border=\"1\" class=\"dataframe\">\n",
       "  <thead>\n",
       "    <tr style=\"text-align: right;\">\n",
       "      <th></th>\n",
       "      <th>password</th>\n",
       "      <th>solt</th>\n",
       "      <th>iv</th>\n",
       "    </tr>\n",
       "  </thead>\n",
       "  <tbody>\n",
       "    <tr>\n",
       "      <th>amazon.com</th>\n",
       "      <td>b'ab232bb2'</td>\n",
       "      <td>b'1234a'</td>\n",
       "      <td>b'iva'</td>\n",
       "    </tr>\n",
       "    <tr>\n",
       "      <th>github</th>\n",
       "      <td>b'12345'</td>\n",
       "      <td>b'abcd'</td>\n",
       "      <td>b'ivg'</td>\n",
       "    </tr>\n",
       "  </tbody>\n",
       "</table>\n",
       "</div>"
      ],
      "text/plain": [
       "               password      solt      iv\n",
       "amazon.com  b'ab232bb2'  b'1234a'  b'iva'\n",
       "github         b'12345'   b'abcd'  b'ivg'"
      ]
     },
     "execution_count": 27,
     "metadata": {},
     "output_type": "execute_result"
    }
   ],
   "source": [
    "data"
   ]
  },
  {
   "cell_type": "code",
   "execution_count": 28,
   "metadata": {
    "collapsed": false
   },
   "outputs": [
    {
     "data": {
      "text/plain": [
       "amazon.com    b'iva'\n",
       "github        b'ivg'\n",
       "Name: iv, dtype: object"
      ]
     },
     "execution_count": 28,
     "metadata": {},
     "output_type": "execute_result"
    }
   ],
   "source": [
    "data['iv']"
   ]
  },
  {
   "cell_type": "code",
   "execution_count": 32,
   "metadata": {
    "collapsed": false
   },
   "outputs": [
    {
     "data": {
      "text/plain": [
       "['iva', 'ivg']"
      ]
     },
     "execution_count": 32,
     "metadata": {},
     "output_type": "execute_result"
    }
   ],
   "source": [
    "[x.decode('utf-8') for x in data['iv']]"
   ]
  },
  {
   "cell_type": "code",
   "execution_count": 37,
   "metadata": {
    "collapsed": true
   },
   "outputs": [],
   "source": [
    "rootpass = 'futosi2104'\n",
    "encryption = pd.DataFrame()"
   ]
  },
  {
   "cell_type": "code",
   "execution_count": 41,
   "metadata": {
    "collapsed": false
   },
   "outputs": [],
   "source": [
    "import os\n",
    "import hashlib\n",
    "import secrets\n",
    "from Crypto.Cipher import AES"
   ]
  },
  {
   "cell_type": "code",
   "execution_count": 98,
   "metadata": {
    "collapsed": false
   },
   "outputs": [],
   "source": [
    "name = 'amazon.com'\n",
    "password = 'inten1356'\n",
    "solt = secrets.token_bytes(32)"
   ]
  },
  {
   "cell_type": "code",
   "execution_count": 99,
   "metadata": {
    "collapsed": false
   },
   "outputs": [
    {
     "data": {
      "text/plain": [
       "b'\\xf4K\\n0HO8\\x0ftf\\xc9p\\xb6\\xab\\x1b\\x83\\xb0W\\x01\\x94sU\\xfa\\xf0\\xfc\\xc8\\xd7\\x1f68\\xd7\\xea'"
      ]
     },
     "execution_count": 99,
     "metadata": {},
     "output_type": "execute_result"
    }
   ],
   "source": [
    "solt"
   ]
  },
  {
   "cell_type": "code",
   "execution_count": 100,
   "metadata": {
    "collapsed": true
   },
   "outputs": [],
   "source": [
    "iv = os.urandom(16)"
   ]
  },
  {
   "cell_type": "code",
   "execution_count": 101,
   "metadata": {
    "collapsed": false
   },
   "outputs": [
    {
     "data": {
      "text/plain": [
       "b'\\x92\\xbe\\\\\\x08\\xe9S\\xd8\\xc6g\\x84\\x9a\\x9f\\xb7\\x7f\\x02\\xf5'"
      ]
     },
     "execution_count": 101,
     "metadata": {},
     "output_type": "execute_result"
    }
   ],
   "source": [
    "iv"
   ]
  },
  {
   "cell_type": "code",
   "execution_count": 102,
   "metadata": {
    "collapsed": false
   },
   "outputs": [],
   "source": [
    "solted_root = solt + rootpass.encode('utf-8')"
   ]
  },
  {
   "cell_type": "code",
   "execution_count": 103,
   "metadata": {
    "collapsed": false
   },
   "outputs": [],
   "source": [
    "kck = hashlib.sha256(solted_root).digest()"
   ]
  },
  {
   "cell_type": "code",
   "execution_count": 104,
   "metadata": {
    "collapsed": false
   },
   "outputs": [
    {
     "data": {
      "text/plain": [
       "b'\\xf93\\xf3\\xf1\\xddi8>\\xee\\x9b0\\xaf=?\\xca\\x9b\\x1a\\xba\\n?\\xc4<\\x8f\\xb6\\x17c\\xf6\\xdb\\xda\\xf7x\\xc4'"
      ]
     },
     "execution_count": 104,
     "metadata": {},
     "output_type": "execute_result"
    }
   ],
   "source": [
    "kck"
   ]
  },
  {
   "cell_type": "code",
   "execution_count": 105,
   "metadata": {
    "collapsed": false
   },
   "outputs": [],
   "source": [
    "aes = AES.new(kck, AES.MODE_CBC, iv)"
   ]
  },
  {
   "cell_type": "code",
   "execution_count": 156,
   "metadata": {
    "collapsed": false
   },
   "outputs": [],
   "source": [
    "BS = 16\n",
    "pad = lambda s: s + (BS - len(s) % BS) * chr(BS - len(s) % BS)\n",
    "depad = lambda s: s[:-ord(s[-1])]"
   ]
  },
  {
   "cell_type": "code",
   "execution_count": 107,
   "metadata": {
    "collapsed": false
   },
   "outputs": [],
   "source": [
    "encyption_data = aes.encrypt(pad(password) )"
   ]
  },
  {
   "cell_type": "code",
   "execution_count": 108,
   "metadata": {
    "collapsed": false
   },
   "outputs": [
    {
     "data": {
      "text/plain": [
       "b'\\x10\\xbb\\x12_4\\xa1\\x12S\\xb5\\xb6i\\xfdT\\xa6\\xd4x'"
      ]
     },
     "execution_count": 108,
     "metadata": {},
     "output_type": "execute_result"
    }
   ],
   "source": [
    "encyption_data"
   ]
  },
  {
   "cell_type": "code",
   "execution_count": 109,
   "metadata": {
    "collapsed": false
   },
   "outputs": [
    {
     "data": {
      "text/plain": [
       "'inten1356\\x07\\x07\\x07\\x07\\x07\\x07\\x07'"
      ]
     },
     "execution_count": 109,
     "metadata": {},
     "output_type": "execute_result"
    }
   ],
   "source": [
    "padded = pad(password)\n",
    "padded"
   ]
  },
  {
   "cell_type": "code",
   "execution_count": 157,
   "metadata": {
    "collapsed": false
   },
   "outputs": [
    {
     "data": {
      "text/plain": [
       "'inten1356'"
      ]
     },
     "execution_count": 157,
     "metadata": {},
     "output_type": "execute_result"
    }
   ],
   "source": [
    "depad(padded)"
   ]
  },
  {
   "cell_type": "code",
   "execution_count": 143,
   "metadata": {
    "collapsed": false
   },
   "outputs": [],
   "source": [
    "encryption = pd.DataFrame(columns = ['password', 'solt', 'iv'])\n",
    "\n",
    "newone = pd.DataFrame([[encyption_data, solt, iv]], index = [name],columns = ['password', 'solt', 'iv'])"
   ]
  },
  {
   "cell_type": "code",
   "execution_count": 144,
   "metadata": {
    "collapsed": false
   },
   "outputs": [
    {
     "data": {
      "text/html": [
       "<div>\n",
       "<table border=\"1\" class=\"dataframe\">\n",
       "  <thead>\n",
       "    <tr style=\"text-align: right;\">\n",
       "      <th></th>\n",
       "      <th>password</th>\n",
       "      <th>solt</th>\n",
       "      <th>iv</th>\n",
       "    </tr>\n",
       "  </thead>\n",
       "  <tbody>\n",
       "    <tr>\n",
       "      <th>amazon.com</th>\n",
       "      <td>b'\\x10\\xbb\\x12_4\\xa1\\x12S\\xb5\\xb6i\\xfdT\\xa6\\xd4x'</td>\n",
       "      <td>b'\\xf4K\\n0HO8\\x0ftf\\xc9p\\xb6\\xab\\x1b\\x83\\xb0W\\...</td>\n",
       "      <td>b'\\x92\\xbe\\\\\\x08\\xe9S\\xd8\\xc6g\\x84\\x9a\\x9f\\xb7...</td>\n",
       "    </tr>\n",
       "  </tbody>\n",
       "</table>\n",
       "</div>"
      ],
      "text/plain": [
       "                                                     password  \\\n",
       "amazon.com  b'\\x10\\xbb\\x12_4\\xa1\\x12S\\xb5\\xb6i\\xfdT\\xa6\\xd4x'   \n",
       "\n",
       "                                                         solt  \\\n",
       "amazon.com  b'\\xf4K\\n0HO8\\x0ftf\\xc9p\\xb6\\xab\\x1b\\x83\\xb0W\\...   \n",
       "\n",
       "                                                           iv  \n",
       "amazon.com  b'\\x92\\xbe\\\\\\x08\\xe9S\\xd8\\xc6g\\x84\\x9a\\x9f\\xb7...  "
      ]
     },
     "execution_count": 144,
     "metadata": {},
     "output_type": "execute_result"
    }
   ],
   "source": [
    "newone"
   ]
  },
  {
   "cell_type": "code",
   "execution_count": 145,
   "metadata": {
    "collapsed": false
   },
   "outputs": [],
   "source": [
    "encryption = encryption.append(newone)"
   ]
  },
  {
   "cell_type": "code",
   "execution_count": 146,
   "metadata": {
    "collapsed": false
   },
   "outputs": [
    {
     "data": {
      "text/html": [
       "<div>\n",
       "<table border=\"1\" class=\"dataframe\">\n",
       "  <thead>\n",
       "    <tr style=\"text-align: right;\">\n",
       "      <th></th>\n",
       "      <th>password</th>\n",
       "      <th>solt</th>\n",
       "      <th>iv</th>\n",
       "    </tr>\n",
       "  </thead>\n",
       "  <tbody>\n",
       "    <tr>\n",
       "      <th>amazon.com</th>\n",
       "      <td>b'\\x10\\xbb\\x12_4\\xa1\\x12S\\xb5\\xb6i\\xfdT\\xa6\\xd4x'</td>\n",
       "      <td>b'\\xf4K\\n0HO8\\x0ftf\\xc9p\\xb6\\xab\\x1b\\x83\\xb0W\\...</td>\n",
       "      <td>b'\\x92\\xbe\\\\\\x08\\xe9S\\xd8\\xc6g\\x84\\x9a\\x9f\\xb7...</td>\n",
       "    </tr>\n",
       "  </tbody>\n",
       "</table>\n",
       "</div>"
      ],
      "text/plain": [
       "                                                     password  \\\n",
       "amazon.com  b'\\x10\\xbb\\x12_4\\xa1\\x12S\\xb5\\xb6i\\xfdT\\xa6\\xd4x'   \n",
       "\n",
       "                                                         solt  \\\n",
       "amazon.com  b'\\xf4K\\n0HO8\\x0ftf\\xc9p\\xb6\\xab\\x1b\\x83\\xb0W\\...   \n",
       "\n",
       "                                                           iv  \n",
       "amazon.com  b'\\x92\\xbe\\\\\\x08\\xe9S\\xd8\\xc6g\\x84\\x9a\\x9f\\xb7...  "
      ]
     },
     "execution_count": 146,
     "metadata": {},
     "output_type": "execute_result"
    }
   ],
   "source": [
    "encryption"
   ]
  },
  {
   "cell_type": "code",
   "execution_count": 162,
   "metadata": {
    "collapsed": true
   },
   "outputs": [],
   "source": [
    "encryption.to_csv('encyptionData.csv', encoding='utf-8')"
   ]
  },
  {
   "cell_type": "code",
   "execution_count": 215,
   "metadata": {
    "collapsed": false
   },
   "outputs": [],
   "source": [
    "import pickle\n",
    "with open('encryptionData.pkl', 'wb') as f1:\n",
    "    pickle.dump(encryption, f1)"
   ]
  },
  {
   "cell_type": "code",
   "execution_count": 216,
   "metadata": {
    "collapsed": true
   },
   "outputs": [],
   "source": [
    "with open('encryptionData.pkl', 'rb') as f2:\n",
    "    reread = pickle.load(f2)"
   ]
  },
  {
   "cell_type": "code",
   "execution_count": 217,
   "metadata": {
    "collapsed": false
   },
   "outputs": [
    {
     "data": {
      "text/html": [
       "<div>\n",
       "<table border=\"1\" class=\"dataframe\">\n",
       "  <thead>\n",
       "    <tr style=\"text-align: right;\">\n",
       "      <th></th>\n",
       "      <th>password</th>\n",
       "      <th>solt</th>\n",
       "      <th>iv</th>\n",
       "    </tr>\n",
       "  </thead>\n",
       "  <tbody>\n",
       "    <tr>\n",
       "      <th>amazon.com</th>\n",
       "      <td>b'\\x10\\xbb\\x12_4\\xa1\\x12S\\xb5\\xb6i\\xfdT\\xa6\\xd4x'</td>\n",
       "      <td>b'\\xf4K\\n0HO8\\x0ftf\\xc9p\\xb6\\xab\\x1b\\x83\\xb0W\\...</td>\n",
       "      <td>b'\\x92\\xbe\\\\\\x08\\xe9S\\xd8\\xc6g\\x84\\x9a\\x9f\\xb7...</td>\n",
       "    </tr>\n",
       "  </tbody>\n",
       "</table>\n",
       "</div>"
      ],
      "text/plain": [
       "                                                     password  \\\n",
       "amazon.com  b'\\x10\\xbb\\x12_4\\xa1\\x12S\\xb5\\xb6i\\xfdT\\xa6\\xd4x'   \n",
       "\n",
       "                                                         solt  \\\n",
       "amazon.com  b'\\xf4K\\n0HO8\\x0ftf\\xc9p\\xb6\\xab\\x1b\\x83\\xb0W\\...   \n",
       "\n",
       "                                                           iv  \n",
       "amazon.com  b'\\x92\\xbe\\\\\\x08\\xe9S\\xd8\\xc6g\\x84\\x9a\\x9f\\xb7...  "
      ]
     },
     "execution_count": 217,
     "metadata": {},
     "output_type": "execute_result"
    }
   ],
   "source": [
    "reread"
   ]
  },
  {
   "cell_type": "markdown",
   "metadata": {},
   "source": [
    "# view passwords"
   ]
  },
  {
   "cell_type": "code",
   "execution_count": 242,
   "metadata": {
    "collapsed": false
   },
   "outputs": [
    {
     "data": {
      "text/html": [
       "<div>\n",
       "<table border=\"1\" class=\"dataframe\">\n",
       "  <thead>\n",
       "    <tr style=\"text-align: right;\">\n",
       "      <th></th>\n",
       "      <th>password</th>\n",
       "      <th>solt</th>\n",
       "      <th>iv</th>\n",
       "    </tr>\n",
       "  </thead>\n",
       "  <tbody>\n",
       "    <tr>\n",
       "      <th>amazon.com</th>\n",
       "      <td>b'\\x10\\xbb\\x12_4\\xa1\\x12S\\xb5\\xb6i\\xfdT\\xa6\\xd4x'</td>\n",
       "      <td>b'\\xf4K\\n0HO8\\x0ftf\\xc9p\\xb6\\xab\\x1b\\x83\\xb0W\\...</td>\n",
       "      <td>b'\\x92\\xbe\\\\\\x08\\xe9S\\xd8\\xc6g\\x84\\x9a\\x9f\\xb7...</td>\n",
       "    </tr>\n",
       "  </tbody>\n",
       "</table>\n",
       "</div>"
      ],
      "text/plain": [
       "                                                     password  \\\n",
       "amazon.com  b'\\x10\\xbb\\x12_4\\xa1\\x12S\\xb5\\xb6i\\xfdT\\xa6\\xd4x'   \n",
       "\n",
       "                                                         solt  \\\n",
       "amazon.com  b'\\xf4K\\n0HO8\\x0ftf\\xc9p\\xb6\\xab\\x1b\\x83\\xb0W\\...   \n",
       "\n",
       "                                                           iv  \n",
       "amazon.com  b'\\x92\\xbe\\\\\\x08\\xe9S\\xd8\\xc6g\\x84\\x9a\\x9f\\xb7...  "
      ]
     },
     "execution_count": 242,
     "metadata": {},
     "output_type": "execute_result"
    }
   ],
   "source": [
    "reread"
   ]
  },
  {
   "cell_type": "code",
   "execution_count": 243,
   "metadata": {
    "collapsed": false
   },
   "outputs": [
    {
     "data": {
      "text/plain": [
       "bytes"
      ]
     },
     "execution_count": 243,
     "metadata": {},
     "output_type": "execute_result"
    }
   ],
   "source": [
    "type(reread.ix['amazon.com','solt'])"
   ]
  },
  {
   "cell_type": "code",
   "execution_count": 244,
   "metadata": {
    "collapsed": true
   },
   "outputs": [],
   "source": [
    "sio = reread.ix['amazon.com','solt']"
   ]
  },
  {
   "cell_type": "code",
   "execution_count": 245,
   "metadata": {
    "collapsed": false
   },
   "outputs": [
    {
     "data": {
      "text/plain": [
       "b'\\xf4K\\n0HO8\\x0ftf\\xc9p\\xb6\\xab\\x1b\\x83\\xb0W\\x01\\x94sU\\xfa\\xf0\\xfc\\xc8\\xd7\\x1f68\\xd7\\xea'"
      ]
     },
     "execution_count": 245,
     "metadata": {},
     "output_type": "execute_result"
    }
   ],
   "source": [
    "sio"
   ]
  },
  {
   "cell_type": "code",
   "execution_count": 246,
   "metadata": {
    "collapsed": false
   },
   "outputs": [
    {
     "data": {
      "text/plain": [
       "b'\\xf4K\\n0HO8\\x0ftf\\xc9p\\xb6\\xab\\x1b\\x83\\xb0W\\x01\\x94sU\\xfa\\xf0\\xfc\\xc8\\xd7\\x1f68\\xd7\\xeafutosi2104'"
      ]
     },
     "execution_count": 246,
     "metadata": {},
     "output_type": "execute_result"
    }
   ],
   "source": [
    "sio_root = sio + rootpass.encode('utf-8')\n",
    "sio_root"
   ]
  },
  {
   "cell_type": "code",
   "execution_count": 247,
   "metadata": {
    "collapsed": false
   },
   "outputs": [
    {
     "data": {
      "text/plain": [
       "b'\\xf4K\\n0HO8\\x0ftf\\xc9p\\xb6\\xab\\x1b\\x83\\xb0W\\x01\\x94sU\\xfa\\xf0\\xfc\\xc8\\xd7\\x1f68\\xd7\\xeafutosi2104'"
      ]
     },
     "execution_count": 247,
     "metadata": {},
     "output_type": "execute_result"
    }
   ],
   "source": [
    "solted_root"
   ]
  },
  {
   "cell_type": "code",
   "execution_count": 248,
   "metadata": {
    "collapsed": false
   },
   "outputs": [
    {
     "data": {
      "text/plain": [
       "b'\\xf93\\xf3\\xf1\\xddi8>\\xee\\x9b0\\xaf=?\\xca\\x9b\\x1a\\xba\\n?\\xc4<\\x8f\\xb6\\x17c\\xf6\\xdb\\xda\\xf7x\\xc4'"
      ]
     },
     "execution_count": 248,
     "metadata": {},
     "output_type": "execute_result"
    }
   ],
   "source": [
    "rekck = hashlib.sha256(sio_root).digest()\n",
    "rekck"
   ]
  },
  {
   "cell_type": "code",
   "execution_count": 249,
   "metadata": {
    "collapsed": false
   },
   "outputs": [
    {
     "data": {
      "text/plain": [
       "b'\\xf93\\xf3\\xf1\\xddi8>\\xee\\x9b0\\xaf=?\\xca\\x9b\\x1a\\xba\\n?\\xc4<\\x8f\\xb6\\x17c\\xf6\\xdb\\xda\\xf7x\\xc4'"
      ]
     },
     "execution_count": 249,
     "metadata": {},
     "output_type": "execute_result"
    }
   ],
   "source": [
    "kck"
   ]
  },
  {
   "cell_type": "code",
   "execution_count": 250,
   "metadata": {
    "collapsed": false
   },
   "outputs": [],
   "source": [
    "reiv = reread.ix['amazon.com', 'iv']\n",
    "reaes = AES.new(rekck, AES.MODE_CBC, reiv)"
   ]
  },
  {
   "cell_type": "code",
   "execution_count": 251,
   "metadata": {
    "collapsed": false
   },
   "outputs": [],
   "source": [
    "recry = reread.ix['amazon.com', 'password']\n",
    "plain = reaes.decrypt(recry)"
   ]
  },
  {
   "cell_type": "code",
   "execution_count": 252,
   "metadata": {
    "collapsed": false
   },
   "outputs": [
    {
     "data": {
      "text/plain": [
       "b'inten1356\\x07\\x07\\x07\\x07\\x07\\x07\\x07'"
      ]
     },
     "execution_count": 252,
     "metadata": {},
     "output_type": "execute_result"
    }
   ],
   "source": [
    "plain"
   ]
  },
  {
   "cell_type": "code",
   "execution_count": 254,
   "metadata": {
    "collapsed": false
   },
   "outputs": [
    {
     "data": {
      "text/plain": [
       "'inten1356'"
      ]
     },
     "execution_count": 254,
     "metadata": {},
     "output_type": "execute_result"
    }
   ],
   "source": [
    "depad(plain.decode('utf-8'))"
   ]
  },
  {
   "cell_type": "code",
   "execution_count": 258,
   "metadata": {
    "collapsed": false
   },
   "outputs": [],
   "source": [
    "ind = [x for x in reread.index]"
   ]
  },
  {
   "cell_type": "code",
   "execution_count": 260,
   "metadata": {
    "collapsed": false
   },
   "outputs": [
    {
     "name": "stdout",
     "output_type": "stream",
     "text": [
      "['amazon.com']\n"
     ]
    }
   ],
   "source": [
    "print(ind)"
   ]
  },
  {
   "cell_type": "code",
   "execution_count": 261,
   "metadata": {
    "collapsed": false
   },
   "outputs": [
    {
     "data": {
      "text/plain": [
       "False"
      ]
     },
     "execution_count": 261,
     "metadata": {},
     "output_type": "execute_result"
    }
   ],
   "source": [
    "'aa' in reread.index"
   ]
  },
  {
   "cell_type": "code",
   "execution_count": 263,
   "metadata": {
    "collapsed": false
   },
   "outputs": [],
   "source": [
    "a,b,c = reread.ix[name]"
   ]
  },
  {
   "cell_type": "code",
   "execution_count": 264,
   "metadata": {
    "collapsed": false
   },
   "outputs": [
    {
     "data": {
      "text/plain": [
       "b'\\x10\\xbb\\x12_4\\xa1\\x12S\\xb5\\xb6i\\xfdT\\xa6\\xd4x'"
      ]
     },
     "execution_count": 264,
     "metadata": {},
     "output_type": "execute_result"
    }
   ],
   "source": [
    "a"
   ]
  },
  {
   "cell_type": "code",
   "execution_count": 265,
   "metadata": {
    "collapsed": false
   },
   "outputs": [
    {
     "data": {
      "text/plain": [
       "b'\\xf4K\\n0HO8\\x0ftf\\xc9p\\xb6\\xab\\x1b\\x83\\xb0W\\x01\\x94sU\\xfa\\xf0\\xfc\\xc8\\xd7\\x1f68\\xd7\\xea'"
      ]
     },
     "execution_count": 265,
     "metadata": {},
     "output_type": "execute_result"
    }
   ],
   "source": [
    "b"
   ]
  },
  {
   "cell_type": "code",
   "execution_count": 266,
   "metadata": {
    "collapsed": false
   },
   "outputs": [
    {
     "data": {
      "text/plain": [
       "b'\\x92\\xbe\\\\\\x08\\xe9S\\xd8\\xc6g\\x84\\x9a\\x9f\\xb7\\x7f\\x02\\xf5'"
      ]
     },
     "execution_count": 266,
     "metadata": {},
     "output_type": "execute_result"
    }
   ],
   "source": [
    "c"
   ]
  },
  {
   "cell_type": "code",
   "execution_count": null,
   "metadata": {
    "collapsed": true
   },
   "outputs": [],
   "source": []
  }
 ],
 "metadata": {
  "kernelspec": {
   "display_name": "Python 3",
   "language": "python",
   "name": "python3"
  },
  "language_info": {
   "codemirror_mode": {
    "name": "ipython",
    "version": 3
   },
   "file_extension": ".py",
   "mimetype": "text/x-python",
   "name": "python",
   "nbconvert_exporter": "python",
   "pygments_lexer": "ipython3",
   "version": "3.6.0"
  }
 },
 "nbformat": 4,
 "nbformat_minor": 2
}
